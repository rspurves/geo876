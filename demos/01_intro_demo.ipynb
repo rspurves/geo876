{
 "cells": [
  {
   "cell_type": "markdown",
   "id": "6c5db69f",
   "metadata": {},
   "source": [
    "# Getting started with Juypter in Binder\n",
    "\n",
    "This notebook is for the course introduction. This cell contains **markdown**. Markdown is a way of writing notes about what we did - a narrative. It doesn't do anything! We will use it to explain things and ask you questions. \n",
    "\n",
    "You can find out about the syntax for writing Markdown [here](https://www.markdownguide.org/basic-syntax/).\n",
    "\n",
    "If you click on this cell you can see the source and change it.\n",
    "\n",
    "Try making the word source bold...\n",
    "\n",
    "The next cell contains code - you'll see that the dropdown list above changes from markdown to code when you click on the cell.\n",
    "\n",
    "To run the code, click on the Run arrow."
   ]
  },
  {
   "cell_type": "code",
   "execution_count": null,
   "id": "2bb82ea3",
   "metadata": {},
   "outputs": [],
   "source": [
    "# This is a line of code, it prints my name to the screen\n",
    "# Change it to print your name\n",
    "\n",
    "print(\"Hello world, I am Ross\")"
   ]
  },
  {
   "cell_type": "markdown",
   "id": "0ce8dc12",
   "metadata": {},
   "source": [
    "The next code block takes some numbers and adds them together.\n",
    "\n",
    "Change the numbers, and check that the answer changes.\n",
    "Note that [Out] shows us the results of the last statement in the cell - we don't see the answer to the previous statement."
   ]
  },
  {
   "cell_type": "code",
   "execution_count": null,
   "id": "a1521637",
   "metadata": {},
   "outputs": [],
   "source": [
    "x = 3\n",
    "y = 4\n",
    "\n",
    "x - y\n",
    "\n",
    "x + y"
   ]
  },
  {
   "cell_type": "markdown",
   "id": "e568189f",
   "metadata": {},
   "source": [
    "The next code block does exactly the same, but uses `print` to display the results on the screen. Note that we do the calcuations in the print statement, and then print the results to the screen. Note that this cell uses information from previous cells (the values of `x` and `y`). That means the **order** in which you run the cells matters!"
   ]
  },
  {
   "cell_type": "code",
   "execution_count": null,
   "id": "50cc9efa",
   "metadata": {},
   "outputs": [],
   "source": [
    "print(x - y)\n",
    "\n",
    "print(x + y)"
   ]
  },
  {
   "cell_type": "markdown",
   "id": "0ce2d9bc",
   "metadata": {},
   "source": [
    "The final code block stores the answers to these statements in new variables, and then prints the results to the screen"
   ]
  },
  {
   "cell_type": "code",
   "execution_count": 1,
   "id": "6aa3fb95",
   "metadata": {},
   "outputs": [
    {
     "ename": "NameError",
     "evalue": "name 'x' is not defined",
     "output_type": "error",
     "traceback": [
      "\u001b[1;31m---------------------------------------------------------------------------\u001b[0m",
      "\u001b[1;31mNameError\u001b[0m                                 Traceback (most recent call last)",
      "\u001b[1;32m~\\AppData\\Local\\Temp/ipykernel_20908/1842656595.py\u001b[0m in \u001b[0;36m<module>\u001b[1;34m\u001b[0m\n\u001b[1;32m----> 1\u001b[1;33m \u001b[0ma\u001b[0m \u001b[1;33m=\u001b[0m \u001b[0mx\u001b[0m \u001b[1;33m-\u001b[0m \u001b[0my\u001b[0m\u001b[1;33m\u001b[0m\u001b[1;33m\u001b[0m\u001b[0m\n\u001b[0m\u001b[0;32m      2\u001b[0m \u001b[1;33m\u001b[0m\u001b[0m\n\u001b[0;32m      3\u001b[0m \u001b[0mb\u001b[0m \u001b[1;33m=\u001b[0m \u001b[0mx\u001b[0m \u001b[1;33m+\u001b[0m \u001b[0my\u001b[0m\u001b[1;33m\u001b[0m\u001b[1;33m\u001b[0m\u001b[0m\n\u001b[0;32m      4\u001b[0m \u001b[1;33m\u001b[0m\u001b[0m\n\u001b[0;32m      5\u001b[0m \u001b[0mprint\u001b[0m\u001b[1;33m(\u001b[0m\u001b[1;34m\"The answers to the two sums are \"\u001b[0m\u001b[1;33m,\u001b[0m \u001b[0ma\u001b[0m\u001b[1;33m,\u001b[0m \u001b[1;34m\" and \"\u001b[0m\u001b[1;33m,\u001b[0m \u001b[0mb\u001b[0m\u001b[1;33m)\u001b[0m\u001b[1;33m\u001b[0m\u001b[1;33m\u001b[0m\u001b[0m\n",
      "\u001b[1;31mNameError\u001b[0m: name 'x' is not defined"
     ]
    }
   ],
   "source": [
    "a = x - y\n",
    "\n",
    "b = x + y\n",
    "\n",
    "print(\"The answers to the two sums are \", a, \" and \", b)"
   ]
  },
  {
   "cell_type": "markdown",
   "id": "576e6e3f",
   "metadata": {},
   "source": [
    "Some useful things you can do in Juypter Notebook\n",
    "- You can add cells using Insert on the menu. \n",
    "- You can restart the kernel and recalculate everything by choosing Kernel -> Restart & Run All\n",
    "- You can move from cell to cell using the arrows (or your mouse) and run individual cells using Run.\n",
    "- Running Markdown renders it, running code sends output to the screen or the result of the final statement in a cell.\n",
    "- You can save your changes as a Jupyter Notebook file - you can't reload these in Binder"
   ]
  },
  {
   "cell_type": "markdown",
   "id": "d208c9c8",
   "metadata": {},
   "source": [
    "# Your tasks\n",
    "\n",
    "1. Modify the code so that it prints your name\n",
    "2. Change the values of x and y, and check that the results change\n",
    "3. Restart the kernel and run only the last code block. What happens? Why?\n",
    "4. Add a cell with some very simple code and run it\n",
    "5. Add a cell with markup describing what you did\n",
    "6. Save your code locally, and open it with "
   ]
  },
  {
   "cell_type": "code",
   "execution_count": null,
   "id": "af42493e",
   "metadata": {},
   "outputs": [],
   "source": []
  }
 ],
 "metadata": {
  "kernelspec": {
   "display_name": "Python 3 (ipykernel)",
   "language": "python",
   "name": "python3"
  },
  "language_info": {
   "codemirror_mode": {
    "name": "ipython",
    "version": 3
   },
   "file_extension": ".py",
   "mimetype": "text/x-python",
   "name": "python",
   "nbconvert_exporter": "python",
   "pygments_lexer": "ipython3",
   "version": "3.9.7"
  }
 },
 "nbformat": 4,
 "nbformat_minor": 5
}
